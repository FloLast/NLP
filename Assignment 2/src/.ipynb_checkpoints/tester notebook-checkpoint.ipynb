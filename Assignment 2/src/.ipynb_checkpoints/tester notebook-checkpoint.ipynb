{
 "cells": [
  {
   "cell_type": "code",
   "execution_count": null,
   "metadata": {
    "collapsed": true
   },
   "outputs": [],
   "source": [
    "import time\n",
    "import numpy as np\n",
    "\n",
    "from classifier_ter import Classifier\n",
    "from eval import eval_file, eval_list, load_label_output\n",
    "\n",
    "def set_reproductible():\n",
    "    # The below is necessary to have reproducible behavior.\n",
    "    import random as rn\n",
    "    import os\n",
    "    os.environ['PYTHONHASHSEED'] = '0'\n",
    "    # The below is necessary for starting Numpy generated random numbers\n",
    "    # in a well-defined initial state.\n",
    "    np.random.seed(17)\n",
    "    # The below is necessary for starting core Python generated random numbers\n",
    "    # in a well-defined state.\n",
    "    rn.seed(12345)\n",
    "\n",
    "\n",
    "if __name__ == \"__main__\":\n",
    "    set_reproductible()\n",
    "    datadir = \"../data/\"\n",
    "    trainfile =  datadir + \"traindata.csv\"\n",
    "    devfile =  datadir + \"devdata.csv\"\n",
    "    testfile =  None\n",
    "    # Basic checking\n",
    "    start_time = time.perf_counter()\n",
    "    classifier = Classifier()\n",
    "    print(\"\\n\")\n",
    "    # Training\n",
    "    print(\"1. Training the classifier...\\n\")\n",
    "    classifier.train(trainfile)\n",
    "    # Evaluation on the dev dataset\n",
    "    print(\"\\n2. Evaluation on the dev dataset...\\n\")\n",
    "    slabels = classifier.predict(devfile)\n",
    "    glabels = load_label_output(devfile)\n",
    "    eval_list(glabels, slabels)\n",
    "    if testfile is not None:\n",
    "        # Evaluation on the test data\n",
    "        print(\"\\n3. Evaluation on the test dataset...\\n\")\n",
    "        slabels = classifier.predict(testfile)\n",
    "        glabels = load_label_output(testfile)\n",
    "        eval_list(glabels, slabels)\n",
    "    print(\"\\nExec time: %.2f s.\" % (time.perf_counter()-start_time))\n"
   ]
  }
 ],
 "metadata": {
  "kernelspec": {
   "display_name": "Python 3",
   "language": "python",
   "name": "python3"
  },
  "language_info": {
   "codemirror_mode": {
    "name": "ipython",
    "version": 3
   },
   "file_extension": ".py",
   "mimetype": "text/x-python",
   "name": "python",
   "nbconvert_exporter": "python",
   "pygments_lexer": "ipython3",
   "version": "3.6.3"
  }
 },
 "nbformat": 4,
 "nbformat_minor": 2
}
